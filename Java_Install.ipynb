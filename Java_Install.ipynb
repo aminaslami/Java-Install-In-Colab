{
  "nbformat": 4,
  "nbformat_minor": 0,
  "metadata": {
    "colab": {
      "name": "Java Install.ipynb",
      "provenance": [],
      "collapsed_sections": []
    },
    "kernelspec": {
      "name": "python3",
      "display_name": "Python 3"
    },
    "language_info": {
      "name": "python"
    }
  },
  "cells": [
    {
      "cell_type": "code",
      "execution_count": 5,
      "metadata": {
        "colab": {
          "base_uri": "https://localhost:8080/"
        },
        "id": "pk2zAXk6fSP_",
        "outputId": "4513ef00-cfcc-43ba-86a8-854566e0bb73"
      },
      "outputs": [
        {
          "output_type": "stream",
          "name": "stdout",
          "text": [
            ">> mkdir -p data\n",
            "\n",
            ">> gsutil cp gs://dataflow-samples/shakespeare/kinglear.txt data/\n",
            "Copying gs://dataflow-samples/shakespeare/kinglear.txt...\n",
            "/ [1 files][153.6 KiB/153.6 KiB]                                                \n",
            "Operation completed over 1 objects/153.6 KiB.                                    \n",
            "\n"
          ]
        }
      ],
      "source": [
        "# Run and print a shell command.\n",
        "def run(cmd):\n",
        "  print('>> {}'.format(cmd))\n",
        "  !{cmd}  # This is magic to run 'cmd' in the shell.\n",
        "  print('')\n",
        "\n",
        "# Copy the input file into the local filesystem.\n",
        "run('mkdir -p data')\n",
        "run('gsutil cp gs://dataflow-samples/shakespeare/kinglear.txt data/')"
      ]
    },
    {
      "cell_type": "code",
      "source": [
        "# Update and upgrade the system before installing anything else.\n",
        "run('apt-get update > /dev/null')\n",
        "run('apt-get upgrade > /dev/null')\n",
        "\n",
        "# Install the Java JDK.\n",
        "run('apt-get install default-jdk > /dev/null')\n",
        "\n",
        "# Check the Java version to see if everything is working well.\n",
        "run('javac -version')"
      ],
      "metadata": {
        "colab": {
          "base_uri": "https://localhost:8080/"
        },
        "id": "Bxrs2ZqLgvgd",
        "outputId": "7950f811-c96a-4b93-cecb-6a6cd633445a"
      },
      "execution_count": 6,
      "outputs": [
        {
          "output_type": "stream",
          "name": "stdout",
          "text": [
            ">> apt-get update > /dev/null\n",
            "\n",
            ">> apt-get upgrade > /dev/null\n",
            "\n",
            ">> apt-get install default-jdk > /dev/null\n",
            "\n",
            ">> javac -version\n",
            "javac 11.0.16\n",
            "\n"
          ]
        }
      ]
    },
    {
      "cell_type": "code",
      "source": [
        "import os\n",
        "\n",
        "# Download the gradle source.\n",
        "gradle_version = 'gradle-5.0'\n",
        "gradle_path = f\"/opt/{gradle_version}\"\n",
        "if not os.path.exists(gradle_path):\n",
        "  run(f\"wget -q -nc -O gradle.zip https://services.gradle.org/distributions/{gradle_version}-bin.zip\")\n",
        "  run('unzip -q -d /opt gradle.zip')\n",
        "  run('rm -f gradle.zip')\n",
        "\n",
        "# We're choosing to use the absolute path instead of adding it to the $PATH environment variable.\n",
        "def gradle(args):\n",
        "  run(f\"{gradle_path}/bin/gradle --console=plain {args}\")\n",
        "\n",
        "gradle('-v')"
      ],
      "metadata": {
        "colab": {
          "base_uri": "https://localhost:8080/"
        },
        "id": "ViYwVXSNhDNW",
        "outputId": "5be19d37-02c0-4320-f045-c6f35a301f5e"
      },
      "execution_count": 7,
      "outputs": [
        {
          "output_type": "stream",
          "name": "stdout",
          "text": [
            ">> wget -q -nc -O gradle.zip https://services.gradle.org/distributions/gradle-5.0-bin.zip\n",
            "\n",
            ">> unzip -q -d /opt gradle.zip\n",
            "\n",
            ">> rm -f gradle.zip\n",
            "\n",
            ">> /opt/gradle-5.0/bin/gradle --console=plain -v\n",
            "\u001b[m\n",
            "Welcome to Gradle 5.0!\n",
            "\n",
            "Here are the highlights of this release:\n",
            " - Kotlin DSL 1.0\n",
            " - Task timeouts\n",
            " - Dependency alignment aka BOM support\n",
            " - Interactive `gradle init`\n",
            "\n",
            "For more details see https://docs.gradle.org/5.0/release-notes.html\n",
            "\n",
            "\n",
            "------------------------------------------------------------\n",
            "Gradle 5.0\n",
            "------------------------------------------------------------\n",
            "\n",
            "Build time:   2018-11-26 11:48:43 UTC\n",
            "Revision:     7fc6e5abf2fc5fe0824aec8a0f5462664dbcd987\n",
            "\n",
            "Kotlin DSL:   1.0.4\n",
            "Kotlin:       1.3.10\n",
            "Groovy:       2.5.4\n",
            "Ant:          Apache Ant(TM) version 1.9.13 compiled on July 10 2018\n",
            "JVM:          11.0.16 (Ubuntu 11.0.16+8-post-Ubuntu-0ubuntu118.04)\n",
            "OS:           Linux 5.4.188+ amd64\n",
            "\n",
            "\u001b[m\n"
          ]
        }
      ]
    },
    {
      "cell_type": "code",
      "source": [
        "%%writefile build.gradle\n",
        "\n",
        "plugins {\n",
        "  // id 'idea'     // Uncomment for IntelliJ IDE\n",
        "  // id 'eclipse'  // Uncomment for Eclipse IDE\n",
        "\n",
        "  // Apply java plugin and make it a runnable application.\n",
        "  id 'java'\n",
        "  id 'application'\n",
        "\n",
        "  // 'shadow' allows us to embed all the dependencies into a fat jar.\n",
        "  id 'com.github.johnrengelman.shadow' version '4.0.3'\n",
        "}\n",
        "\n",
        "// This is the path of the main class, stored within ./src/main/java/\n",
        "mainClassName = 'samples.quickstart.WordCount'\n",
        "\n",
        "// Declare the sources from which to fetch dependencies.\n",
        "repositories {\n",
        "  mavenCentral()\n",
        "}\n",
        "\n",
        "// Java version compatibility.\n",
        "sourceCompatibility = 1.8\n",
        "targetCompatibility = 1.8\n",
        "\n",
        "// Use the latest Apache Beam major version 2.\n",
        "// You can also lock into a minor version like '2.9.+'.\n",
        "ext.apacheBeamVersion = '2.+'\n",
        "\n",
        "// Declare the dependencies of the project.\n",
        "dependencies {\n",
        "  shadow \"org.apache.beam:beam-sdks-java-core:$apacheBeamVersion\"\n",
        "\n",
        "  runtime \"org.apache.beam:beam-runners-direct-java:$apacheBeamVersion\"\n",
        "  runtime \"org.slf4j:slf4j-api:1.+\"\n",
        "  runtime \"org.slf4j:slf4j-jdk14:1.+\"\n",
        "\n",
        "  testCompile \"junit:junit:4.+\"\n",
        "}\n",
        "\n",
        "// Configure 'shadowJar' instead of 'jar' to set up the fat jar.\n",
        "shadowJar {\n",
        "  baseName = 'WordCount'  // Name of the fat jar file.\n",
        "  classifier = null       // Set to null, otherwise 'shadow' appends a '-all' to the jar file name.\n",
        "  manifest {\n",
        "    attributes('Main-Class': mainClassName)  // Specify where the main class resides.\n",
        "  }\n",
        "}"
      ],
      "metadata": {
        "colab": {
          "base_uri": "https://localhost:8080/"
        },
        "id": "dH30HgKJhI3H",
        "outputId": "3af560dd-456b-48e7-ef1b-b35aabc50fd3"
      },
      "execution_count": 8,
      "outputs": [
        {
          "output_type": "stream",
          "name": "stdout",
          "text": [
            "Writing build.gradle\n"
          ]
        }
      ]
    },
    {
      "cell_type": "code",
      "source": [
        "run('mkdir -p src/main/java/samples/quickstart')"
      ],
      "metadata": {
        "colab": {
          "base_uri": "https://localhost:8080/"
        },
        "id": "rNgZCT0shOl4",
        "outputId": "a1760601-fab8-46c5-ad4c-bf33e9b8e726"
      },
      "execution_count": 9,
      "outputs": [
        {
          "output_type": "stream",
          "name": "stdout",
          "text": [
            ">> mkdir -p src/main/java/samples/quickstart\n",
            "\n"
          ]
        }
      ]
    },
    {
      "cell_type": "code",
      "source": [
        "%%writefile src/main/java/samples/quickstart/WordCount.java\n",
        "\n",
        "package samples.quickstart;\n",
        "\n",
        "import org.apache.beam.sdk.Pipeline;\n",
        "import org.apache.beam.sdk.io.TextIO;\n",
        "import org.apache.beam.sdk.options.PipelineOptions;\n",
        "import org.apache.beam.sdk.options.PipelineOptionsFactory;\n",
        "import org.apache.beam.sdk.transforms.Count;\n",
        "import org.apache.beam.sdk.transforms.Filter;\n",
        "import org.apache.beam.sdk.transforms.FlatMapElements;\n",
        "import org.apache.beam.sdk.transforms.MapElements;\n",
        "import org.apache.beam.sdk.values.KV;\n",
        "import org.apache.beam.sdk.values.TypeDescriptors;\n",
        "\n",
        "import java.util.Arrays;\n",
        "\n",
        "public class WordCount {\n",
        "  public static void main(String[] args) {\n",
        "    String inputsDir = \"data/*\";\n",
        "    String outputsPrefix = \"outputs/part\";\n",
        "\n",
        "    PipelineOptions options = PipelineOptionsFactory.fromArgs(args).create();\n",
        "    Pipeline pipeline = Pipeline.create(options);\n",
        "    pipeline\n",
        "        .apply(\"Read lines\", TextIO.read().from(inputsDir))\n",
        "        .apply(\"Find words\", FlatMapElements.into(TypeDescriptors.strings())\n",
        "            .via((String line) -> Arrays.asList(line.split(\"[^\\\\p{L}]+\"))))\n",
        "        .apply(\"Filter empty words\", Filter.by((String word) -> !word.isEmpty()))\n",
        "        .apply(\"Count words\", Count.perElement())\n",
        "        .apply(\"Write results\", MapElements.into(TypeDescriptors.strings())\n",
        "            .via((KV<String, Long> wordCount) ->\n",
        "                  wordCount.getKey() + \": \" + wordCount.getValue()))\n",
        "        .apply(TextIO.write().to(outputsPrefix));\n",
        "    pipeline.run();\n",
        "  }\n",
        "}"
      ],
      "metadata": {
        "colab": {
          "base_uri": "https://localhost:8080/"
        },
        "id": "ohKZz6nChRWS",
        "outputId": "b4817bbd-65c1-456c-f136-f068303fb71f"
      },
      "execution_count": 10,
      "outputs": [
        {
          "output_type": "stream",
          "name": "stdout",
          "text": [
            "Writing src/main/java/samples/quickstart/WordCount.java\n"
          ]
        }
      ]
    },
    {
      "cell_type": "code",
      "source": [
        "# Build the project.\n",
        "gradle('build')\n",
        "\n",
        "# Check the generated build files.\n",
        "run('ls -lh build/libs/')"
      ],
      "metadata": {
        "colab": {
          "base_uri": "https://localhost:8080/"
        },
        "id": "IE2teOQYhXtH",
        "outputId": "efcc3611-6340-4f1d-fba3-5f22853e87a6"
      },
      "execution_count": 11,
      "outputs": [
        {
          "output_type": "stream",
          "name": "stdout",
          "text": [
            ">> /opt/gradle-5.0/bin/gradle --console=plain build\n",
            "\u001b[mStarting a Gradle Daemon (subsequent builds will be faster)\n",
            "> Task :compileJava\n",
            "> Task :processResources NO-SOURCE\n",
            "> Task :classes\n",
            "> Task :jar\n",
            "> Task :startScripts\n",
            "> Task :distTar\n",
            "> Task :distZip\n",
            "> Task :shadowJar\n",
            "> Task :startShadowScripts\n",
            "> Task :shadowDistTar\n",
            "> Task :shadowDistZip\n",
            "> Task :assemble\n",
            "> Task :compileTestJava NO-SOURCE\n",
            "> Task :processTestResources NO-SOURCE\n",
            "> Task :testClasses UP-TO-DATE\n",
            "> Task :test NO-SOURCE\n",
            "> Task :check UP-TO-DATE\n",
            "> Task :build\n",
            "\n",
            "BUILD SUCCESSFUL in 41s\n",
            "9 actionable tasks: 9 executed\n",
            "\u001b[m\n",
            ">> ls -lh build/libs/\n",
            "total 43M\n",
            "-rw-r--r-- 1 root root 2.9K Aug 22 12:27 content.jar\n",
            "-rw-r--r-- 1 root root  43M Aug 22 12:27 WordCount.jar\n",
            "\n"
          ]
        }
      ]
    },
    {
      "cell_type": "code",
      "source": [
        "# Run the shadow (fat jar) build.\n",
        "gradle('runShadow')\n",
        "\n",
        "# Sample the first 20 results, remember there are no ordering guarantees.\n",
        "run('head -n 20 outputs/part-00000-of-*')"
      ],
      "metadata": {
        "colab": {
          "base_uri": "https://localhost:8080/"
        },
        "id": "QMy4-rWChkB_",
        "outputId": "01d985ee-91cf-4065-e9c4-4cf75b331cfc"
      },
      "execution_count": 12,
      "outputs": [
        {
          "output_type": "stream",
          "name": "stdout",
          "text": [
            ">> /opt/gradle-5.0/bin/gradle --console=plain runShadow\n",
            "\u001b[m> Task :compileJava UP-TO-DATE\n",
            "> Task :processResources NO-SOURCE\n",
            "> Task :classes UP-TO-DATE\n",
            "> Task :shadowJar UP-TO-DATE\n",
            "> Task :startShadowScripts UP-TO-DATE\n",
            "> Task :installShadowDist\n",
            "\n",
            "> Task :runShadow\n",
            "Aug 22, 2022 12:28:18 PM org.apache.beam.sdk.io.FileBasedSource getEstimatedSizeBytes\n",
            "INFO: Filepattern data/* matched 1 files with total size 157283\n",
            "Aug 22, 2022 12:28:18 PM org.apache.beam.sdk.io.FileBasedSource split\n",
            "INFO: Splitting filepattern data/* into bundles of size 52427 took 1 ms and produced 1 files and 3 bundles\n",
            "Aug 22, 2022 12:29:50 PM org.apache.beam.sdk.io.WriteFiles$WriteShardsIntoTempFilesFn processElement\n",
            "INFO: Opening writer 2fea13b5-6842-4789-a7b9-6dd8a7a452da for window org.apache.beam.sdk.transforms.windowing.GlobalWindow@7857fe2 pane PaneInfo{isFirst=true, isLast=true, timing=ON_TIME, index=0, onTimeIndex=0} destination null\n",
            "Aug 22, 2022 12:29:50 PM org.apache.beam.sdk.io.WriteFiles$WriteShardsIntoTempFilesFn processElement\n",
            "INFO: Opening writer 641d09b0-59b1-49e3-a92c-00d9c24afac1 for window org.apache.beam.sdk.transforms.windowing.GlobalWindow@7857fe2 pane PaneInfo{isFirst=true, isLast=true, timing=ON_TIME, index=0, onTimeIndex=0} destination null\n",
            "Aug 22, 2022 12:29:50 PM org.apache.beam.sdk.io.WriteFiles$WriteShardsIntoTempFilesFn processElement\n",
            "INFO: Opening writer 1a2e25b0-1569-496a-b732-6e3c079e02d0 for window org.apache.beam.sdk.transforms.windowing.GlobalWindow@7857fe2 pane PaneInfo{isFirst=true, isLast=true, timing=ON_TIME, index=0, onTimeIndex=0} destination null\n",
            "Aug 22, 2022 12:29:50 PM org.apache.beam.sdk.io.FileBasedSink$Writer close\n",
            "INFO: Successfully wrote temporary file /content/outputs/.temp-beam-a8b09d09-8535-4fd0-92a4-0e776895bf33/2d4dd7a12fea13b5-6842-4789-a7b9-6dd8a7a452da\n",
            "Aug 22, 2022 12:29:50 PM org.apache.beam.sdk.io.FileBasedSink$Writer close\n",
            "INFO: Successfully wrote temporary file /content/outputs/.temp-beam-a8b09d09-8535-4fd0-92a4-0e776895bf33/d42225691a2e25b0-1569-496a-b732-6e3c079e02d0\n",
            "Aug 22, 2022 12:29:50 PM org.apache.beam.sdk.io.FileBasedSink$Writer close\n",
            "INFO: Successfully wrote temporary file /content/outputs/.temp-beam-a8b09d09-8535-4fd0-92a4-0e776895bf33/46abcfd9641d09b0-59b1-49e3-a92c-00d9c24afac1\n",
            "Aug 22, 2022 12:29:50 PM org.apache.beam.sdk.io.WriteFiles$FinalizeTempFileBundles$FinalizeFn process\n",
            "INFO: Finalizing 3 file results\n",
            "Aug 22, 2022 12:29:50 PM org.apache.beam.sdk.io.FileBasedSink$WriteOperation createMissingEmptyShards\n",
            "INFO: Finalizing for destination null num shards 3.\n",
            "Aug 22, 2022 12:29:50 PM org.apache.beam.sdk.io.FileBasedSink$WriteOperation moveToOutputFiles\n",
            "INFO: Will copy temporary file FileResult{tempFilename=/content/outputs/.temp-beam-a8b09d09-8535-4fd0-92a4-0e776895bf33/2d4dd7a12fea13b5-6842-4789-a7b9-6dd8a7a452da, shard=1, window=org.apache.beam.sdk.transforms.windowing.GlobalWindow@7857fe2, paneInfo=PaneInfo{isFirst=true, isLast=true, timing=ON_TIME, index=0, onTimeIndex=0}} to final location /content/outputs/part-00001-of-00003\n",
            "Aug 22, 2022 12:29:50 PM org.apache.beam.sdk.io.FileBasedSink$WriteOperation moveToOutputFiles\n",
            "INFO: Will copy temporary file FileResult{tempFilename=/content/outputs/.temp-beam-a8b09d09-8535-4fd0-92a4-0e776895bf33/46abcfd9641d09b0-59b1-49e3-a92c-00d9c24afac1, shard=2, window=org.apache.beam.sdk.transforms.windowing.GlobalWindow@7857fe2, paneInfo=PaneInfo{isFirst=true, isLast=true, timing=ON_TIME, index=0, onTimeIndex=0}} to final location /content/outputs/part-00002-of-00003\n",
            "Aug 22, 2022 12:29:50 PM org.apache.beam.sdk.io.FileBasedSink$WriteOperation moveToOutputFiles\n",
            "INFO: Will copy temporary file FileResult{tempFilename=/content/outputs/.temp-beam-a8b09d09-8535-4fd0-92a4-0e776895bf33/d42225691a2e25b0-1569-496a-b732-6e3c079e02d0, shard=0, window=org.apache.beam.sdk.transforms.windowing.GlobalWindow@7857fe2, paneInfo=PaneInfo{isFirst=true, isLast=true, timing=ON_TIME, index=0, onTimeIndex=0}} to final location /content/outputs/part-00000-of-00003\n",
            "Aug 22, 2022 12:29:50 PM org.apache.beam.sdk.io.FileBasedSink$WriteOperation removeTemporaryFiles\n",
            "WARNING: Failed to match temporary files under: [/content/outputs/.temp-beam-a8b09d09-8535-4fd0-92a4-0e776895bf33/].\n",
            "\n",
            "BUILD SUCCESSFUL in 1m 37s\n",
            "5 actionable tasks: 2 executed, 3 up-to-date\n",
            "\u001b[m\n",
            ">> head -n 20 outputs/part-00000-of-*\n",
            "cap: 3\n",
            "distressed: 1\n",
            "accent: 1\n",
            "motion: 1\n",
            "acknowledged: 2\n",
            "Sure: 2\n",
            "ten: 1\n",
            "blasts: 2\n",
            "sake: 2\n",
            "Pinion: 1\n",
            "hang: 3\n",
            "Renege: 1\n",
            "Welcome: 2\n",
            "reserved: 1\n",
            "warrant: 2\n",
            "yourselves: 1\n",
            "tyrannous: 1\n",
            "Dismissing: 1\n",
            "same: 10\n",
            "throw: 3\n",
            "\n"
          ]
        }
      ]
    },
    {
      "cell_type": "code",
      "source": [
        "# You can now distribute and run your Java application as a standalone jar file.\n",
        "run('cp build/libs/WordCount.jar .')\n",
        "run('java -jar WordCount.jar')\n",
        "\n",
        "# Sample the first 20 results, remember there are no ordering guarantees.\n",
        "run('head -n 20 outputs/part-00000-of-*')"
      ],
      "metadata": {
        "colab": {
          "base_uri": "https://localhost:8080/"
        },
        "id": "YszYM_AFiC8O",
        "outputId": "6c790c27-ad07-4414-d7b4-329ede8d24c6"
      },
      "execution_count": 13,
      "outputs": [
        {
          "output_type": "stream",
          "name": "stdout",
          "text": [
            ">> cp build/libs/WordCount.jar .\n",
            "\n",
            ">> java -jar WordCount.jar\n",
            "Aug 22, 2022 12:30:24 PM org.apache.beam.sdk.io.FileBasedSource getEstimatedSizeBytes\n",
            "INFO: Filepattern data/* matched 1 files with total size 157283\n",
            "Aug 22, 2022 12:30:24 PM org.apache.beam.sdk.io.FileBasedSource split\n",
            "INFO: Splitting filepattern data/* into bundles of size 52427 took 1 ms and produced 1 files and 3 bundles\n",
            "Aug 22, 2022 12:31:52 PM org.apache.beam.sdk.io.WriteFiles$WriteShardsIntoTempFilesFn processElement\n",
            "INFO: Opening writer ce1e4ee7-4ea6-43b0-8d9f-b9956d16cd1c for window org.apache.beam.sdk.transforms.windowing.GlobalWindow@31ea9581 pane PaneInfo{isFirst=true, isLast=true, timing=ON_TIME, index=0, onTimeIndex=0} destination null\n",
            "Aug 22, 2022 12:31:52 PM org.apache.beam.sdk.io.WriteFiles$WriteShardsIntoTempFilesFn processElement\n",
            "INFO: Opening writer c412efb4-3e6d-4278-a6c9-994465ddf312 for window org.apache.beam.sdk.transforms.windowing.GlobalWindow@31ea9581 pane PaneInfo{isFirst=true, isLast=true, timing=ON_TIME, index=0, onTimeIndex=0} destination null\n",
            "Aug 22, 2022 12:31:52 PM org.apache.beam.sdk.io.WriteFiles$WriteShardsIntoTempFilesFn processElement\n",
            "INFO: Opening writer 033b54a6-5d1a-4d45-9b7a-e200c607cb4e for window org.apache.beam.sdk.transforms.windowing.GlobalWindow@31ea9581 pane PaneInfo{isFirst=true, isLast=true, timing=ON_TIME, index=0, onTimeIndex=0} destination null\n",
            "Aug 22, 2022 12:31:52 PM org.apache.beam.sdk.io.FileBasedSink$Writer close\n",
            "INFO: Successfully wrote temporary file /content/outputs/.temp-beam-34287e6f-0d32-4dd8-b85b-39c6b0080e73/549ad160ce1e4ee7-4ea6-43b0-8d9f-b9956d16cd1c\n",
            "Aug 22, 2022 12:31:52 PM org.apache.beam.sdk.io.FileBasedSink$Writer close\n",
            "INFO: Successfully wrote temporary file /content/outputs/.temp-beam-34287e6f-0d32-4dd8-b85b-39c6b0080e73/bc2a385c033b54a6-5d1a-4d45-9b7a-e200c607cb4e\n",
            "Aug 22, 2022 12:31:52 PM org.apache.beam.sdk.io.FileBasedSink$Writer close\n",
            "INFO: Successfully wrote temporary file /content/outputs/.temp-beam-34287e6f-0d32-4dd8-b85b-39c6b0080e73/09dd6f66c412efb4-3e6d-4278-a6c9-994465ddf312\n",
            "Aug 22, 2022 12:31:52 PM org.apache.beam.sdk.io.WriteFiles$FinalizeTempFileBundles$FinalizeFn process\n",
            "INFO: Finalizing 3 file results\n",
            "Aug 22, 2022 12:31:52 PM org.apache.beam.sdk.io.FileBasedSink$WriteOperation createMissingEmptyShards\n",
            "INFO: Finalizing for destination null num shards 3.\n",
            "Aug 22, 2022 12:31:52 PM org.apache.beam.sdk.io.FileBasedSink$WriteOperation moveToOutputFiles\n",
            "INFO: Will copy temporary file FileResult{tempFilename=/content/outputs/.temp-beam-34287e6f-0d32-4dd8-b85b-39c6b0080e73/09dd6f66c412efb4-3e6d-4278-a6c9-994465ddf312, shard=0, window=org.apache.beam.sdk.transforms.windowing.GlobalWindow@31ea9581, paneInfo=PaneInfo{isFirst=true, isLast=true, timing=ON_TIME, index=0, onTimeIndex=0}} to final location /content/outputs/part-00000-of-00003\n",
            "Aug 22, 2022 12:31:52 PM org.apache.beam.sdk.io.FileBasedSink$WriteOperation moveToOutputFiles\n",
            "INFO: Will copy temporary file FileResult{tempFilename=/content/outputs/.temp-beam-34287e6f-0d32-4dd8-b85b-39c6b0080e73/549ad160ce1e4ee7-4ea6-43b0-8d9f-b9956d16cd1c, shard=2, window=org.apache.beam.sdk.transforms.windowing.GlobalWindow@31ea9581, paneInfo=PaneInfo{isFirst=true, isLast=true, timing=ON_TIME, index=0, onTimeIndex=0}} to final location /content/outputs/part-00002-of-00003\n",
            "Aug 22, 2022 12:31:52 PM org.apache.beam.sdk.io.FileBasedSink$WriteOperation moveToOutputFiles\n",
            "INFO: Will copy temporary file FileResult{tempFilename=/content/outputs/.temp-beam-34287e6f-0d32-4dd8-b85b-39c6b0080e73/bc2a385c033b54a6-5d1a-4d45-9b7a-e200c607cb4e, shard=1, window=org.apache.beam.sdk.transforms.windowing.GlobalWindow@31ea9581, paneInfo=PaneInfo{isFirst=true, isLast=true, timing=ON_TIME, index=0, onTimeIndex=0}} to final location /content/outputs/part-00001-of-00003\n",
            "Aug 22, 2022 12:31:52 PM org.apache.beam.sdk.io.FileBasedSink$WriteOperation removeTemporaryFiles\n",
            "WARNING: Failed to match temporary files under: [/content/outputs/.temp-beam-34287e6f-0d32-4dd8-b85b-39c6b0080e73/].\n",
            "\n",
            ">> head -n 20 outputs/part-00000-of-*\n",
            "interposes: 1\n",
            "Keep: 3\n",
            "clothes: 2\n",
            "plight: 2\n",
            "cools: 1\n",
            "Pinion: 1\n",
            "Freedom: 1\n",
            "nicely: 2\n",
            "sake: 2\n",
            "Renege: 1\n",
            "fifty: 4\n",
            "imperfect: 2\n",
            "cease: 4\n",
            "Dies: 3\n",
            "blasts: 2\n",
            "I: 708\n",
            "engraffed: 1\n",
            "poorly: 1\n",
            "telling: 1\n",
            "pick: 1\n",
            "\n"
          ]
        }
      ]
    },
    {
      "cell_type": "code",
      "source": [
        "%%writefile src/main/java/samples/quickstart/WordCount.java\n",
        "\n",
        "package samples.quickstart;\n",
        "\n",
        "import org.apache.beam.sdk.Pipeline;\n",
        "import org.apache.beam.sdk.io.TextIO;\n",
        "import org.apache.beam.sdk.options.PipelineOptions;\n",
        "import org.apache.beam.sdk.options.PipelineOptionsFactory;\n",
        "import org.apache.beam.sdk.transforms.Count;\n",
        "import org.apache.beam.sdk.transforms.Filter;\n",
        "import org.apache.beam.sdk.transforms.FlatMapElements;\n",
        "import org.apache.beam.sdk.transforms.MapElements;\n",
        "import org.apache.beam.sdk.values.KV;\n",
        "import org.apache.beam.sdk.values.PCollection;\n",
        "import org.apache.beam.sdk.values.TypeDescriptors;\n",
        "\n",
        "import java.util.Arrays;\n",
        "\n",
        "public class WordCount {\n",
        "  public static void main(String[] args) {\n",
        "    String inputsDir = \"data/*\";\n",
        "    String outputsPrefix = \"outputs/part\";\n",
        "\n",
        "    PipelineOptions options = PipelineOptionsFactory.fromArgs(args).create();\n",
        "    Pipeline pipeline = Pipeline.create(options);\n",
        "\n",
        "    // Store the word counts in a PCollection.\n",
        "    // Each element is a KeyValue of (word, count) of types KV<String, Long>.\n",
        "    PCollection<KV<String, Long>> wordCounts =\n",
        "        // The input PCollection is an empty pipeline.\n",
        "        pipeline\n",
        "\n",
        "        // Read lines from a text file.\n",
        "        .apply(\"Read lines\", TextIO.read().from(inputsDir))\n",
        "        // Element type: String - text line\n",
        "\n",
        "        // Use a regular expression to iterate over all words in the line.\n",
        "        // FlatMapElements will yield an element for every element in an iterable.\n",
        "        .apply(\"Find words\", FlatMapElements.into(TypeDescriptors.strings())\n",
        "            .via((String line) -> Arrays.asList(line.split(\"[^\\\\p{L}]+\"))))\n",
        "        // Element type: String - word\n",
        "\n",
        "        // Keep only non-empty words.\n",
        "        .apply(\"Filter empty words\", Filter.by((String word) -> !word.isEmpty()))\n",
        "        // Element type: String - word\n",
        "\n",
        "        // Count each unique word.\n",
        "        .apply(\"Count words\", Count.perElement());\n",
        "        // Element type: KV<String, Long> - key: word, value: counts\n",
        "\n",
        "    // We can process a PCollection through other pipelines, too.\n",
        "    // The input PCollection are the wordCounts from the previous step.\n",
        "    wordCounts\n",
        "        // Format the results into a string so we can write them to a file.\n",
        "        .apply(\"Write results\", MapElements.into(TypeDescriptors.strings())\n",
        "            .via((KV<String, Long> wordCount) ->\n",
        "                  wordCount.getKey() + \": \" + wordCount.getValue()))\n",
        "        // Element type: str - text line\n",
        "\n",
        "        // Finally, write the results to a file.\n",
        "        .apply(TextIO.write().to(outputsPrefix));\n",
        "\n",
        "    // We have to explicitly run the pipeline, otherwise it's only a definition.\n",
        "    pipeline.run();\n",
        "  }\n",
        "}"
      ],
      "metadata": {
        "colab": {
          "base_uri": "https://localhost:8080/"
        },
        "id": "34_M_co_iePl",
        "outputId": "d769a630-e333-45d0-af22-5a8ce183e626"
      },
      "execution_count": 14,
      "outputs": [
        {
          "output_type": "stream",
          "name": "stdout",
          "text": [
            "Overwriting src/main/java/samples/quickstart/WordCount.java\n"
          ]
        }
      ]
    },
    {
      "cell_type": "code",
      "source": [
        "# Build and run the project. The 'runShadow' task implicitly does a 'build'.\n",
        "gradle('runShadow')\n",
        "\n",
        "# Sample the first 20 results, remember there are no ordering guarantees.\n",
        "run('head -n 20 outputs/part-00000-of-*')"
      ],
      "metadata": {
        "colab": {
          "base_uri": "https://localhost:8080/"
        },
        "id": "mmlkZswGikiT",
        "outputId": "c1896cba-f876-4370-fb95-09f44f8ecc7a"
      },
      "execution_count": 15,
      "outputs": [
        {
          "output_type": "stream",
          "name": "stdout",
          "text": [
            ">> /opt/gradle-5.0/bin/gradle --console=plain runShadow\n",
            "\u001b[m> Task :compileJava\n",
            "> Task :processResources NO-SOURCE\n",
            "> Task :classes\n",
            "> Task :shadowJar\n",
            "> Task :startShadowScripts\n",
            "> Task :installShadowDist\n",
            "\n",
            "> Task :runShadow\n",
            "Aug 22, 2022 12:32:49 PM org.apache.beam.sdk.io.FileBasedSource getEstimatedSizeBytes\n",
            "INFO: Filepattern data/* matched 1 files with total size 157283\n",
            "Aug 22, 2022 12:32:49 PM org.apache.beam.sdk.io.FileBasedSource split\n",
            "INFO: Splitting filepattern data/* into bundles of size 52427 took 1 ms and produced 1 files and 3 bundles\n",
            "Aug 22, 2022 12:34:21 PM org.apache.beam.sdk.io.WriteFiles$WriteShardsIntoTempFilesFn processElement\n",
            "INFO: Opening writer feca558e-4aa0-462c-a4d4-14b002986fa1 for window org.apache.beam.sdk.transforms.windowing.GlobalWindow@7857fe2 pane PaneInfo{isFirst=true, isLast=true, timing=ON_TIME, index=0, onTimeIndex=0} destination null\n",
            "Aug 22, 2022 12:34:21 PM org.apache.beam.sdk.io.WriteFiles$WriteShardsIntoTempFilesFn processElement\n",
            "INFO: Opening writer c85da176-7ccb-4ff1-9eaa-b15c8b2f9891 for window org.apache.beam.sdk.transforms.windowing.GlobalWindow@7857fe2 pane PaneInfo{isFirst=true, isLast=true, timing=ON_TIME, index=0, onTimeIndex=0} destination null\n",
            "Aug 22, 2022 12:34:21 PM org.apache.beam.sdk.io.WriteFiles$WriteShardsIntoTempFilesFn processElement\n",
            "INFO: Opening writer aebefb6a-acbe-41a1-88e2-0aa77b3b8292 for window org.apache.beam.sdk.transforms.windowing.GlobalWindow@7857fe2 pane PaneInfo{isFirst=true, isLast=true, timing=ON_TIME, index=0, onTimeIndex=0} destination null\n",
            "Aug 22, 2022 12:34:21 PM org.apache.beam.sdk.io.FileBasedSink$Writer close\n",
            "INFO: Successfully wrote temporary file /content/outputs/.temp-beam-27d84ccb-8f9e-40d3-bbad-44f613cc003a/12781990feca558e-4aa0-462c-a4d4-14b002986fa1\n",
            "Aug 22, 2022 12:34:21 PM org.apache.beam.sdk.io.WriteFiles$WriteShardsIntoTempFilesFn processElement\n",
            "INFO: Opening writer b9307ec7-7861-4761-8528-d558aa8aa46f for window org.apache.beam.sdk.transforms.windowing.GlobalWindow@7857fe2 pane PaneInfo{isFirst=true, isLast=true, timing=ON_TIME, index=0, onTimeIndex=0} destination null\n",
            "Aug 22, 2022 12:34:21 PM org.apache.beam.sdk.io.FileBasedSink$Writer close\n",
            "INFO: Successfully wrote temporary file /content/outputs/.temp-beam-27d84ccb-8f9e-40d3-bbad-44f613cc003a/aca1fe3daebefb6a-acbe-41a1-88e2-0aa77b3b8292\n",
            "Aug 22, 2022 12:34:21 PM org.apache.beam.sdk.io.FileBasedSink$Writer close\n",
            "INFO: Successfully wrote temporary file /content/outputs/.temp-beam-27d84ccb-8f9e-40d3-bbad-44f613cc003a/790000cbc85da176-7ccb-4ff1-9eaa-b15c8b2f9891\n",
            "Aug 22, 2022 12:34:21 PM org.apache.beam.sdk.io.WriteFiles$WriteShardsIntoTempFilesFn processElement\n",
            "INFO: Opening writer 85f11d9c-1d7e-472c-8ccc-2ce096d81c26 for window org.apache.beam.sdk.transforms.windowing.GlobalWindow@7857fe2 pane PaneInfo{isFirst=true, isLast=true, timing=ON_TIME, index=0, onTimeIndex=0} destination null\n",
            "Aug 22, 2022 12:34:21 PM org.apache.beam.sdk.io.FileBasedSink$Writer close\n",
            "INFO: Successfully wrote temporary file /content/outputs/.temp-beam-27d84ccb-8f9e-40d3-bbad-44f613cc003a/b5042855b9307ec7-7861-4761-8528-d558aa8aa46f\n",
            "Aug 22, 2022 12:34:21 PM org.apache.beam.sdk.io.FileBasedSink$Writer close\n",
            "INFO: Successfully wrote temporary file /content/outputs/.temp-beam-27d84ccb-8f9e-40d3-bbad-44f613cc003a/e6e084d085f11d9c-1d7e-472c-8ccc-2ce096d81c26\n",
            "Aug 22, 2022 12:34:22 PM org.apache.beam.sdk.io.WriteFiles$FinalizeTempFileBundles$FinalizeFn process\n",
            "INFO: Finalizing 5 file results\n",
            "Aug 22, 2022 12:34:22 PM org.apache.beam.sdk.io.FileBasedSink$WriteOperation createMissingEmptyShards\n",
            "INFO: Finalizing for destination null num shards 5.\n",
            "Aug 22, 2022 12:34:22 PM org.apache.beam.sdk.io.FileBasedSink$WriteOperation moveToOutputFiles\n",
            "INFO: Will copy temporary file FileResult{tempFilename=/content/outputs/.temp-beam-27d84ccb-8f9e-40d3-bbad-44f613cc003a/b5042855b9307ec7-7861-4761-8528-d558aa8aa46f, shard=3, window=org.apache.beam.sdk.transforms.windowing.GlobalWindow@7857fe2, paneInfo=PaneInfo{isFirst=true, isLast=true, timing=ON_TIME, index=0, onTimeIndex=0}} to final location /content/outputs/part-00003-of-00005\n",
            "Aug 22, 2022 12:34:22 PM org.apache.beam.sdk.io.FileBasedSink$WriteOperation moveToOutputFiles\n",
            "INFO: Will copy temporary file FileResult{tempFilename=/content/outputs/.temp-beam-27d84ccb-8f9e-40d3-bbad-44f613cc003a/aca1fe3daebefb6a-acbe-41a1-88e2-0aa77b3b8292, shard=0, window=org.apache.beam.sdk.transforms.windowing.GlobalWindow@7857fe2, paneInfo=PaneInfo{isFirst=true, isLast=true, timing=ON_TIME, index=0, onTimeIndex=0}} to final location /content/outputs/part-00000-of-00005\n",
            "Aug 22, 2022 12:34:22 PM org.apache.beam.sdk.io.FileBasedSink$WriteOperation moveToOutputFiles\n",
            "INFO: Will copy temporary file FileResult{tempFilename=/content/outputs/.temp-beam-27d84ccb-8f9e-40d3-bbad-44f613cc003a/12781990feca558e-4aa0-462c-a4d4-14b002986fa1, shard=4, window=org.apache.beam.sdk.transforms.windowing.GlobalWindow@7857fe2, paneInfo=PaneInfo{isFirst=true, isLast=true, timing=ON_TIME, index=0, onTimeIndex=0}} to final location /content/outputs/part-00004-of-00005\n",
            "Aug 22, 2022 12:34:22 PM org.apache.beam.sdk.io.FileBasedSink$WriteOperation moveToOutputFiles\n",
            "INFO: Will copy temporary file FileResult{tempFilename=/content/outputs/.temp-beam-27d84ccb-8f9e-40d3-bbad-44f613cc003a/e6e084d085f11d9c-1d7e-472c-8ccc-2ce096d81c26, shard=2, window=org.apache.beam.sdk.transforms.windowing.GlobalWindow@7857fe2, paneInfo=PaneInfo{isFirst=true, isLast=true, timing=ON_TIME, index=0, onTimeIndex=0}} to final location /content/outputs/part-00002-of-00005\n",
            "Aug 22, 2022 12:34:22 PM org.apache.beam.sdk.io.FileBasedSink$WriteOperation moveToOutputFiles\n",
            "INFO: Will copy temporary file FileResult{tempFilename=/content/outputs/.temp-beam-27d84ccb-8f9e-40d3-bbad-44f613cc003a/790000cbc85da176-7ccb-4ff1-9eaa-b15c8b2f9891, shard=1, window=org.apache.beam.sdk.transforms.windowing.GlobalWindow@7857fe2, paneInfo=PaneInfo{isFirst=true, isLast=true, timing=ON_TIME, index=0, onTimeIndex=0}} to final location /content/outputs/part-00001-of-00005\n",
            "Aug 22, 2022 12:34:22 PM org.apache.beam.sdk.io.FileBasedSink$WriteOperation removeTemporaryFiles\n",
            "WARNING: Failed to match temporary files under: [/content/outputs/.temp-beam-27d84ccb-8f9e-40d3-bbad-44f613cc003a/].\n",
            "\n",
            "BUILD SUCCESSFUL in 1m 43s\n",
            "5 actionable tasks: 5 executed\n",
            "\u001b[m\n",
            ">> head -n 20 outputs/part-00000-of-*\n",
            "==> outputs/part-00000-of-00003 <==\n",
            "interposes: 1\n",
            "Keep: 3\n",
            "clothes: 2\n",
            "plight: 2\n",
            "cools: 1\n",
            "Pinion: 1\n",
            "Freedom: 1\n",
            "nicely: 2\n",
            "sake: 2\n",
            "Renege: 1\n",
            "fifty: 4\n",
            "imperfect: 2\n",
            "cease: 4\n",
            "Dies: 3\n",
            "blasts: 2\n",
            "I: 708\n",
            "engraffed: 1\n",
            "poorly: 1\n",
            "telling: 1\n",
            "pick: 1\n",
            "\n",
            "==> outputs/part-00000-of-00005 <==\n",
            "plight: 2\n",
            "arguments: 1\n",
            "half: 12\n",
            "warrant: 2\n",
            "fault: 7\n",
            "S: 1\n",
            "Legitimate: 1\n",
            "vengeance: 3\n",
            "would: 55\n",
            "commission: 3\n",
            "address: 1\n",
            "o: 38\n",
            "same: 10\n",
            "tatter: 1\n",
            "approves: 2\n",
            "anchoring: 1\n",
            "salt: 1\n",
            "Again: 2\n",
            "midway: 1\n",
            "thank: 8\n",
            "\n"
          ]
        }
      ]
    }
  ]
}